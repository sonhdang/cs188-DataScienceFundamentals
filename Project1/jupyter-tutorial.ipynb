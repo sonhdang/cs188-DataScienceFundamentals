{
 "cells": [
  {
   "cell_type": "markdown",
   "metadata": {},
   "source": [
    "# Markdown\n",
    "To write normal text instead of code. Select **Markdown** in the dropdown menu above.\n",
    "- For headers, use # in the beginning of the line, followed by your headings with a space  separating # and the headings\n",
    "- For bulletins, use - in the beginning of the line.\n",
    "- For **bold**, enclose the text you want to be bold in double asterisk **\n",
    "- For *italics*, enclose the text you want to be italics in single asterisk *\n",
    "- You can also have smaller second headers or third headers by using double double hash ## or tripple hash ### in the beginning of the line\n",
    "- To highlight a piece of code, you enclose the piece of code in backticks \\`\n",
    "- To create a highlight block with two horizontal lines above and below the text, use triple asterisk on the line above and below the text"
   ]
  },
  {
   "cell_type": "markdown",
   "metadata": {},
   "source": [
    "# Helpful Shorcuts\n",
    "## Command Mode\n",
    "- **y**: change cell to code\n",
    "- **m**: change cell to markdown\n",
    "- **a**: insert cell above\n",
    "- **b**: insert cell below\n",
    "- **x**: cut selected cells\n",
    "- **c**: copy selected cells\n",
    "- **shift + v**: paste cells above\n",
    "- **v**: paste cells below\n",
    "- **z**: undo cell deletion\n",
    "- **d + d**: delete selected cells\n",
    "- **shift + m**: merge selected cells or current cell with cell below if only one cell is selected\n",
    "- **s**: save and checkpoint\n",
    "- **l**: toggle line numbers\n",
    "- **0 + 0**: restart the kernel (with diaglog)\n",
    "- **shift + SPC**: scroll notebook up\n",
    "- **SPC**: scroll notebook down\n",
    "\n",
    "## Edit Mode\n",
    "- **option + left**: go one word left\n",
    "- **option + right**: go one word right\n",
    "- **command + d**: delete whole line\n",
    "- **option + backspace**: delete one word before\n",
    "- **option + after**: delete one word after\n",
    "- **command + backspace**: delete line left of cursor\n",
    "- **command + delete**: delete line right of cursor\n",
    "- **command + ]**: indent\n",
    "- **command + [**: dedent\n",
    "- **shift + enter**: run cell, select below\n",
    "- **ctrl + enter**: run selected cell\n",
    "- **option + enter**: run cell and insert below\n",
    "- **ctrl + shift + minus**: split cell at cursor"
   ]
  },
  {
   "cell_type": "markdown",
   "metadata": {},
   "source": [
    "# Code"
   ]
  },
  {
   "cell_type": "markdown",
   "metadata": {},
   "source": [
    "This acts as an interactive cell so when you want to print something out or calculating something, you do not have to say use \"print\" but you can just use the expression instead"
   ]
  },
  {
   "cell_type": "code",
   "execution_count": 8,
   "metadata": {},
   "outputs": [
    {
     "name": "stdout",
     "output_type": "stream",
     "text": [
      "Hello World!\n"
     ]
    },
    {
     "data": {
      "text/plain": [
       "'This is Son!'"
      ]
     },
     "execution_count": 8,
     "metadata": {},
     "output_type": "execute_result"
    }
   ],
   "source": [
    "print('Hello World!') #Keyword print is not necessary\n",
    "'This is Son!' #This would also display the text to the output console'"
   ]
  },
  {
   "cell_type": "markdown",
   "metadata": {},
   "source": [
    "To run a shell command, use bang `!` in the beginning of the line, followed by the command"
   ]
  },
  {
   "cell_type": "code",
   "execution_count": 25,
   "metadata": {},
   "outputs": [
    {
     "name": "stdout",
     "output_type": "stream",
     "text": [
      "Package                            Version  \r\n",
      "---------------------------------- ---------\r\n",
      "alabaster                          0.7.12   \r\n",
      "anaconda-client                    1.7.2    \r\n",
      "anaconda-navigator                 1.9.7    \r\n",
      "anaconda-project                   0.8.3    \r\n",
      "appnope                            0.1.0    \r\n",
      "appscript                          1.0.1    \r\n",
      "asn1crypto                         1.0.1    \r\n",
      "astroid                            2.3.1    \r\n",
      "astropy                            3.2.2    \r\n",
      "atomicwrites                       1.3.0    \r\n",
      "attrs                              19.2.0   \r\n",
      "Babel                              2.7.0    \r\n",
      "backcall                           0.1.0    \r\n",
      "backports.functools-lru-cache      1.5      \r\n",
      "backports.os                       0.1.1    \r\n",
      "backports.shutil-get-terminal-size 1.0.0    \r\n",
      "backports.tempfile                 1.0      \r\n",
      "backports.weakref                  1.0.post1\r\n",
      "beautifulsoup4                     4.8.0    \r\n",
      "bitarray                           1.0.1    \r\n",
      "bkcharts                           0.2      \r\n",
      "bleach                             3.1.0    \r\n",
      "bokeh                              1.3.4    \r\n",
      "boto                               2.49.0   \r\n",
      "Bottleneck                         1.2.1    \r\n",
      "certifi                            2019.9.11\r\n",
      "cffi                               1.12.3   \r\n",
      "chardet                            3.0.4    \r\n",
      "Click                              7.0      \r\n",
      "cloudpickle                        1.2.2    \r\n",
      "clyent                             1.2.2    \r\n",
      "colorama                           0.4.1    \r\n",
      "conda                              4.7.12   \r\n",
      "conda-build                        3.18.9   \r\n",
      "conda-package-handling             1.6.0    \r\n",
      "conda-verify                       3.4.2    \r\n",
      "contextlib2                        0.6.0    \r\n",
      "cryptography                       2.7      \r\n",
      "cycler                             0.10.0   \r\n",
      "Cython                             0.29.13  \r\n",
      "cytoolz                            0.10.0   \r\n",
      "dask                               2.5.2    \r\n",
      "decorator                          4.4.0    \r\n",
      "defusedxml                         0.6.0    \r\n",
      "distributed                        2.5.2    \r\n",
      "docutils                           0.15.2   \r\n",
      "entrypoints                        0.3      \r\n",
      "et-xmlfile                         1.0.1    \r\n",
      "fastcache                          1.1.0    \r\n",
      "filelock                           3.0.12   \r\n",
      "Flask                              1.1.1    \r\n",
      "fsspec                             0.5.2    \r\n",
      "future                             0.17.1   \r\n",
      "gevent                             1.4.0    \r\n",
      "glob2                              0.7      \r\n",
      "gmpy2                              2.0.8    \r\n",
      "greenlet                           0.4.15   \r\n",
      "h5py                               2.9.0    \r\n",
      "HeapDict                           1.0.1    \r\n",
      "html5lib                           1.0.1    \r\n",
      "idna                               2.8      \r\n",
      "imageio                            2.6.0    \r\n",
      "imagesize                          1.1.0    \r\n",
      "importlib-metadata                 0.23     \r\n",
      "ipykernel                          5.1.2    \r\n",
      "ipython                            7.8.0    \r\n",
      "ipython-genutils                   0.2.0    \r\n",
      "ipywidgets                         7.5.1    \r\n",
      "isort                              4.3.21   \r\n",
      "itsdangerous                       1.1.0    \r\n",
      "jdcal                              1.4.1    \r\n",
      "jedi                               0.15.1   \r\n",
      "Jinja2                             2.10.3   \r\n",
      "joblib                             0.13.2   \r\n",
      "json5                              0.8.5    \r\n",
      "jsonschema                         3.0.2    \r\n",
      "jupyter                            1.0.0    \r\n",
      "jupyter-client                     5.3.3    \r\n",
      "jupyter-console                    6.0.0    \r\n",
      "jupyter-core                       4.5.0    \r\n",
      "jupyterlab                         1.1.4    \r\n",
      "jupyterlab-server                  1.0.6    \r\n",
      "keyring                            18.0.0   \r\n",
      "kiwisolver                         1.1.0    \r\n",
      "lazy-object-proxy                  1.4.2    \r\n",
      "libarchive-c                       2.8      \r\n",
      "lief                               0.9.0    \r\n",
      "llvmlite                           0.29.0   \r\n",
      "locket                             0.2.0    \r\n",
      "lxml                               4.4.1    \r\n",
      "MarkupSafe                         1.1.1    \r\n",
      "matplotlib                         3.1.1    \r\n",
      "mccabe                             0.6.1    \r\n",
      "mistune                            0.8.4    \r\n",
      "mkl-fft                            1.0.14   \r\n",
      "mkl-random                         1.1.0    \r\n",
      "mkl-service                        2.3.0    \r\n",
      "mock                               3.0.5    \r\n",
      "more-itertools                     7.2.0    \r\n",
      "mpmath                             1.1.0    \r\n",
      "msgpack                            0.6.1    \r\n",
      "multipledispatch                   0.6.0    \r\n",
      "navigator-updater                  0.2.1    \r\n",
      "nbconvert                          5.6.0    \r\n",
      "nbformat                           4.4.0    \r\n",
      "networkx                           2.3      \r\n",
      "nltk                               3.4.5    \r\n",
      "nose                               1.3.7    \r\n",
      "notebook                           6.0.1    \r\n",
      "numba                              0.45.1   \r\n",
      "numexpr                            2.7.0    \r\n",
      "numpy                              1.17.2   \r\n",
      "numpydoc                           0.9.1    \r\n",
      "olefile                            0.46     \r\n",
      "openpyxl                           3.0.0    \r\n",
      "packaging                          19.2     \r\n",
      "pandas                             0.25.1   \r\n",
      "pandocfilters                      1.4.2    \r\n",
      "parso                              0.5.1    \r\n",
      "partd                              1.0.0    \r\n",
      "path.py                            12.0.1   \r\n",
      "pathlib2                           2.3.5    \r\n",
      "patsy                              0.5.1    \r\n",
      "pep8                               1.7.1    \r\n",
      "pexpect                            4.7.0    \r\n",
      "pickleshare                        0.7.5    \r\n",
      "Pillow                             6.2.0    \r\n",
      "pip                                19.2.3   \r\n",
      "pkginfo                            1.5.0.1  \r\n",
      "pluggy                             0.13.0   \r\n",
      "ply                                3.11     \r\n",
      "prometheus-client                  0.7.1    \r\n",
      "prompt-toolkit                     2.0.10   \r\n",
      "psutil                             5.6.3    \r\n",
      "ptyprocess                         0.6.0    \r\n",
      "py                                 1.8.0    \r\n",
      "pycodestyle                        2.5.0    \r\n",
      "pycosat                            0.6.3    \r\n",
      "pycparser                          2.19     \r\n",
      "pycrypto                           2.6.1    \r\n",
      "pycurl                             7.43.0.3 \r\n",
      "pyflakes                           2.1.1    \r\n",
      "Pygments                           2.4.2    \r\n",
      "pylint                             2.4.2    \r\n",
      "pyodbc                             4.0.27   \r\n",
      "pyOpenSSL                          19.0.0   \r\n",
      "pyparsing                          2.4.2    \r\n",
      "pyrsistent                         0.15.4   \r\n",
      "PySocks                            1.7.1    \r\n",
      "pytest                             5.2.1    \r\n",
      "pytest-arraydiff                   0.3      \r\n",
      "pytest-astropy                     0.5.0    \r\n",
      "pytest-doctestplus                 0.4.0    \r\n",
      "pytest-openfiles                   0.4.0    \r\n",
      "pytest-remotedata                  0.3.2    \r\n",
      "python-dateutil                    2.8.0    \r\n",
      "pytz                               2019.3   \r\n",
      "PyWavelets                         1.0.3    \r\n",
      "PyYAML                             5.1.2    \r\n",
      "pyzmq                              18.1.0   \r\n",
      "QtAwesome                          0.6.0    \r\n",
      "qtconsole                          4.5.5    \r\n",
      "QtPy                               1.9.0    \r\n",
      "requests                           2.22.0   \r\n",
      "rope                               0.14.0   \r\n",
      "ruamel-yaml                        0.15.46  \r\n",
      "scikit-image                       0.15.0   \r\n",
      "scikit-learn                       0.21.3   \r\n",
      "scipy                              1.3.1    \r\n",
      "seaborn                            0.9.0    \r\n",
      "Send2Trash                         1.5.0    \r\n",
      "setuptools                         41.4.0   \r\n",
      "simplegeneric                      0.8.1    \r\n",
      "singledispatch                     3.4.0.3  \r\n",
      "six                                1.12.0   \r\n",
      "snowballstemmer                    2.0.0    \r\n",
      "sortedcollections                  1.1.2    \r\n",
      "sortedcontainers                   2.1.0    \r\n",
      "soupsieve                          1.9.3    \r\n",
      "Sphinx                             2.2.0    \r\n",
      "sphinxcontrib-applehelp            1.0.1    \r\n",
      "sphinxcontrib-devhelp              1.0.1    \r\n",
      "sphinxcontrib-htmlhelp             1.0.2    \r\n",
      "sphinxcontrib-jsmath               1.0.1    \r\n",
      "sphinxcontrib-qthelp               1.0.2    \r\n",
      "sphinxcontrib-serializinghtml      1.1.3    \r\n",
      "sphinxcontrib-websupport           1.1.2    \r\n",
      "spyder                             3.3.6    \r\n",
      "spyder-kernels                     0.5.2    \r\n",
      "SQLAlchemy                         1.3.9    \r\n",
      "statsmodels                        0.10.1   \r\n",
      "sympy                              1.4      \r\n",
      "tables                             3.5.2    \r\n",
      "tblib                              1.4.0    \r\n",
      "terminado                          0.8.2    \r\n",
      "testpath                           0.4.2    \r\n",
      "toolz                              0.10.0   \r\n",
      "tornado                            6.0.3    \r\n",
      "tqdm                               4.36.1   \r\n",
      "traitlets                          4.3.3    \r\n",
      "unicodecsv                         0.14.1   \r\n",
      "urllib3                            1.24.2   \r\n",
      "wcwidth                            0.1.7    \r\n",
      "webencodings                       0.5.1    \r\n",
      "Werkzeug                           0.16.0   \r\n",
      "wheel                              0.33.6   \r\n",
      "widgetsnbextension                 3.5.1    \r\n",
      "wrapt                              1.11.2   \r\n",
      "wurlitzer                          1.0.3    \r\n",
      "xlrd                               1.2.0    \r\n",
      "XlsxWriter                         1.2.1    \r\n",
      "xlwings                            0.15.10  \r\n",
      "xlwt                               1.3.0    \r\n",
      "zict                               1.0.0    \r\n",
      "zipp                               0.6.0    \r\n"
     ]
    }
   ],
   "source": [
    "!pip list"
   ]
  },
  {
   "cell_type": "markdown",
   "metadata": {},
   "source": [
    "## `import`\n",
    "There are two ways of importing a module to your program:\n",
    "- `import X`\n",
    "- `from X import Y`\n",
    "### `import X`\n",
    "- `import X` imports the module `X`, and creates a reference to that module in the current namespace.\n",
    "- Then you need to define completed module path to access a particular attribute or method from inside the module (e.g: `X.name` or `X.attribute`)\n",
    "### `from X import Y`\n",
    "- `from X import Y` imports the public object `Y` defined in that module in the current namespace.\n",
    "- After you run the command, you can refer to the public object by its name instead of `X.Y`. In fact, you will not be able to use `X.Y` because the program would not recognize what `X` is because it has not been defined. Only `Y` is defined\n",
    "*source*: https://stackoverflow.com/questions/9439480/from-import-vs-import"
   ]
  },
  {
   "cell_type": "markdown",
   "metadata": {},
   "source": [
    "### Magic Commands and Magic Blocks\n",
    "Built-in magic commands\n",
    "- Magics are specific to and provided by the IPython kernel. Whether Magics are available on a kernel is a decision that is made by the kernel developer on a per-kernel basis.\n",
    "- To work properly, Magics must use a syntax element which is not valid in the underlying language. For example, the Ipython kernel uses the percent `%` syntax element for Magics as `%` is not a valid unary operator in Python.\n",
    "- Some magic commands behave similarly to shell commands like `pwd`, `ls -la`, and `cd`\n",
    "- To see all the magic commands, use the command `%lsmagic`"
   ]
  },
  {
   "cell_type": "code",
   "execution_count": 26,
   "metadata": {},
   "outputs": [
    {
     "data": {
      "application/json": {
       "cell": {
        "!": "OSMagics",
        "HTML": "Other",
        "SVG": "Other",
        "bash": "Other",
        "capture": "ExecutionMagics",
        "debug": "ExecutionMagics",
        "file": "Other",
        "html": "DisplayMagics",
        "javascript": "DisplayMagics",
        "js": "DisplayMagics",
        "latex": "DisplayMagics",
        "markdown": "DisplayMagics",
        "perl": "Other",
        "prun": "ExecutionMagics",
        "pypy": "Other",
        "python": "Other",
        "python2": "Other",
        "python3": "Other",
        "ruby": "Other",
        "script": "ScriptMagics",
        "sh": "Other",
        "svg": "DisplayMagics",
        "sx": "OSMagics",
        "system": "OSMagics",
        "time": "ExecutionMagics",
        "timeit": "ExecutionMagics",
        "writefile": "OSMagics"
       },
       "line": {
        "alias": "OSMagics",
        "alias_magic": "BasicMagics",
        "autoawait": "AsyncMagics",
        "autocall": "AutoMagics",
        "automagic": "AutoMagics",
        "autosave": "KernelMagics",
        "bookmark": "OSMagics",
        "cat": "Other",
        "cd": "OSMagics",
        "clear": "KernelMagics",
        "colors": "BasicMagics",
        "conda": "PackagingMagics",
        "config": "ConfigMagics",
        "connect_info": "KernelMagics",
        "cp": "Other",
        "debug": "ExecutionMagics",
        "dhist": "OSMagics",
        "dirs": "OSMagics",
        "doctest_mode": "BasicMagics",
        "ed": "Other",
        "edit": "KernelMagics",
        "env": "OSMagics",
        "gui": "BasicMagics",
        "hist": "Other",
        "history": "HistoryMagics",
        "killbgscripts": "ScriptMagics",
        "ldir": "Other",
        "less": "KernelMagics",
        "lf": "Other",
        "lk": "Other",
        "ll": "Other",
        "load": "CodeMagics",
        "load_ext": "ExtensionMagics",
        "loadpy": "CodeMagics",
        "logoff": "LoggingMagics",
        "logon": "LoggingMagics",
        "logstart": "LoggingMagics",
        "logstate": "LoggingMagics",
        "logstop": "LoggingMagics",
        "ls": "Other",
        "lsmagic": "BasicMagics",
        "lx": "Other",
        "macro": "ExecutionMagics",
        "magic": "BasicMagics",
        "man": "KernelMagics",
        "matplotlib": "PylabMagics",
        "mkdir": "Other",
        "more": "KernelMagics",
        "mv": "Other",
        "notebook": "BasicMagics",
        "page": "BasicMagics",
        "pastebin": "CodeMagics",
        "pdb": "ExecutionMagics",
        "pdef": "NamespaceMagics",
        "pdoc": "NamespaceMagics",
        "pfile": "NamespaceMagics",
        "pinfo": "NamespaceMagics",
        "pinfo2": "NamespaceMagics",
        "pip": "PackagingMagics",
        "popd": "OSMagics",
        "pprint": "BasicMagics",
        "precision": "BasicMagics",
        "prun": "ExecutionMagics",
        "psearch": "NamespaceMagics",
        "psource": "NamespaceMagics",
        "pushd": "OSMagics",
        "pwd": "OSMagics",
        "pycat": "OSMagics",
        "pylab": "PylabMagics",
        "qtconsole": "KernelMagics",
        "quickref": "BasicMagics",
        "recall": "HistoryMagics",
        "rehashx": "OSMagics",
        "reload_ext": "ExtensionMagics",
        "rep": "Other",
        "rerun": "HistoryMagics",
        "reset": "NamespaceMagics",
        "reset_selective": "NamespaceMagics",
        "rm": "Other",
        "rmdir": "Other",
        "run": "ExecutionMagics",
        "save": "CodeMagics",
        "sc": "OSMagics",
        "set_env": "OSMagics",
        "store": "StoreMagics",
        "sx": "OSMagics",
        "system": "OSMagics",
        "tb": "ExecutionMagics",
        "time": "ExecutionMagics",
        "timeit": "ExecutionMagics",
        "unalias": "OSMagics",
        "unload_ext": "ExtensionMagics",
        "who": "NamespaceMagics",
        "who_ls": "NamespaceMagics",
        "whos": "NamespaceMagics",
        "xdel": "NamespaceMagics",
        "xmode": "BasicMagics"
       }
      },
      "text/plain": [
       "Available line magics:\n",
       "%alias  %alias_magic  %autoawait  %autocall  %automagic  %autosave  %bookmark  %cat  %cd  %clear  %colors  %conda  %config  %connect_info  %cp  %debug  %dhist  %dirs  %doctest_mode  %ed  %edit  %env  %gui  %hist  %history  %killbgscripts  %ldir  %less  %lf  %lk  %ll  %load  %load_ext  %loadpy  %logoff  %logon  %logstart  %logstate  %logstop  %ls  %lsmagic  %lx  %macro  %magic  %man  %matplotlib  %mkdir  %more  %mv  %notebook  %page  %pastebin  %pdb  %pdef  %pdoc  %pfile  %pinfo  %pinfo2  %pip  %popd  %pprint  %precision  %prun  %psearch  %psource  %pushd  %pwd  %pycat  %pylab  %qtconsole  %quickref  %recall  %rehashx  %reload_ext  %rep  %rerun  %reset  %reset_selective  %rm  %rmdir  %run  %save  %sc  %set_env  %store  %sx  %system  %tb  %time  %timeit  %unalias  %unload_ext  %who  %who_ls  %whos  %xdel  %xmode\n",
       "\n",
       "Available cell magics:\n",
       "%%!  %%HTML  %%SVG  %%bash  %%capture  %%debug  %%file  %%html  %%javascript  %%js  %%latex  %%markdown  %%perl  %%prun  %%pypy  %%python  %%python2  %%python3  %%ruby  %%script  %%sh  %%svg  %%sx  %%system  %%time  %%timeit  %%writefile\n",
       "\n",
       "Automagic is ON, % prefix IS NOT needed for line magics."
      ]
     },
     "execution_count": 26,
     "metadata": {},
     "output_type": "execute_result"
    }
   ],
   "source": [
    "%lsmagic"
   ]
  },
  {
   "cell_type": "markdown",
   "metadata": {},
   "source": [
    "- One of the most common magic commands is `%matplotlib inline` which allows the matplotlib charts to be displayed in our notebook"
   ]
  },
  {
   "cell_type": "code",
   "execution_count": 27,
   "metadata": {},
   "outputs": [],
   "source": [
    "%matplotlib inline\n",
    "#If the line above is omitted, the codes below will not be able to finish executing"
   ]
  },
  {
   "cell_type": "code",
   "execution_count": 28,
   "metadata": {},
   "outputs": [
    {
     "data": {
      "image/png": "[encoded data removed]",
      "text/plain": [
       "<Figure size 432x288 with 1 Axes>"
      ]
     },
     "metadata": {
      "needs_background": "light"
     },
     "output_type": "display_data"
    }
   ],
   "source": [
    "import numpy as np\n",
    "import matplotlib.pyplot as plt\n",
    "\n",
    "N = 50\n",
    "x = np.random.rand(N)\n",
    "y = np.random.rand(N)\n",
    "colors = np.random.rand(N)\n",
    "area = np.pi * (15 * np.random.rand(N))**2 #0 to 15 point radii\n",
    "\n",
    "plt.scatter(x, y, s=area, c=colors, alpha=0.5)\n",
    "plt.show()"
   ]
  },
  {
   "cell_type": "markdown",
   "metadata": {},
   "source": [
    "Magic blocks will render the whole cell as the specified interpreter like **bash**, **HTML**, **javascript**, **js**, **latex**, **python**, **python3**, **ruby**, **sh**, etc."
   ]
  },
  {
   "cell_type": "code",
   "execution_count": 29,
   "metadata": {},
   "outputs": [
    {
     "data": {
      "text/html": [
       "<iframe width=\"560\" height=\"315\" src=\"https://www.youtube.com/embed/lj41p5WM6LY\" frameborder=\"0\" allow=\"accelerometer; autoplay; encrypted-media; gyroscope; picture-in-picture\" allowfullscreen></iframe>\n"
      ],
      "text/plain": [
       "<IPython.core.display.HTML object>"
      ]
     },
     "metadata": {},
     "output_type": "display_data"
    }
   ],
   "source": [
    "%%HTML\n",
    "<iframe width=\"560\" height=\"315\" src=\"https://www.youtube.com/embed/lj41p5WM6LY\" frameborder=\"0\" allow=\"accelerometer; autoplay; encrypted-media; gyroscope; picture-in-picture\" allowfullscreen></iframe>"
   ]
  },
  {
   "cell_type": "markdown",
   "metadata": {},
   "source": [
    "You can also use the magic block command `%%timeit` to time how long it takes for the your cell to finish executing"
   ]
  },
  {
   "cell_type": "code",
   "execution_count": 30,
   "metadata": {},
   "outputs": [
    {
     "name": "stdout",
     "output_type": "stream",
     "text": [
      "51.8 µs ± 500 ns per loop (mean ± std. dev. of 7 runs, 10000 loops each)\n"
     ]
    }
   ],
   "source": [
    "%%timeit\n",
    "square_evens = [n*n for n in range(1000)]"
   ]
  },
  {
   "cell_type": "code",
   "execution_count": 38,
   "metadata": {},
   "outputs": [
    {
     "name": "stdout",
     "output_type": "stream",
     "text": [
      "/home/User/Desktop/file.txt\n",
      "/home/file.txt\n"
     ]
    }
   ],
   "source": [
    "import os\n",
    "# Path \n",
    "path = \"/home\"\n",
    "  \n",
    "# Join various path components  \n",
    "print(os.path.join(path, \"User/Desktop\", \"file.txt\")) \n",
    "  \n",
    "  \n",
    "# Path \n",
    "path = \"User/Documents\"\n",
    "  \n",
    "# Join various path components  \n",
    "print(os.path.join(path, \"/home\", \"file.txt\")) \n",
    "  \n",
    "# In above example '/home' \n",
    "# represents an absolute path \n",
    "# so all previous components i.e User / Documents \n",
    "# are thrown away and joining continues  \n",
    "# from the absolute path component i.e / home. "
   ]
  },
  {
   "cell_type": "code",
   "execution_count": null,
   "metadata": {},
   "outputs": [],
   "source": []
  }
 ],
 "metadata": {
  "kernelspec": {
   "display_name": "Python 3",
   "language": "python",
   "name": "python3"
  },
  "language_info": {
   "codemirror_mode": {
    "name": "ipython",
    "version": 3
   },
   "file_extension": ".py",
   "mimetype": "text/x-python",
   "name": "python",
   "nbconvert_exporter": "python",
   "pygments_lexer": "ipython3",
   "version": "3.7.4"
  }
 },
 "nbformat": 4,
 "nbformat_minor": 2
}

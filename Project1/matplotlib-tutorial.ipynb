{
 "cells": [
  {
   "cell_type": "markdown",
   "metadata": {},
   "source": [
    "# `matplotlib` tutorial\n",
    "In this tutorial, we are going to use a data set that contains the median salary of all developer and python developer based on age.\n",
    "\n",
    "First, we need to include the magic command `%matplotlib inline` so that the graph can be displayed in the notebook"
   ]
  },
  {
   "cell_type": "code",
   "execution_count": 1,
   "metadata": {},
   "outputs": [],
   "source": [
    "%matplotlib inline\n",
    "from matplotlib import pyplot as plt"
   ]
  },
  {
   "cell_type": "markdown",
   "metadata": {},
   "source": [
    "Loading the data in the form of lists"
   ]
  },
  {
   "cell_type": "code",
   "execution_count": 2,
   "metadata": {},
   "outputs": [],
   "source": [
    "dev_x = [25, 26, 27 ,28, 29, 30, 31, 32, 33, 34, 35]\n",
    "dev_y = [38496, 42000, 46752, 49320, 53200,\n",
    "         56000, 62316, 64928, 67317, 68748, 73752]"
   ]
  },
  {
   "cell_type": "markdown",
   "metadata": {},
   "source": [
    "Set x and y label with `xlabel` and `ylabel`.\n",
    "\n",
    "Then, use `title` to set the plot's title.\n",
    "\n",
    "Use the function call `plot` to plot the graph. If you use `plt.plot()`, it will use a line plot by default.\n",
    "\n",
    "To distinguish which line is which, use `legend`.\n",
    "\n",
    "To customize the plot or the lines\n",
    "- The easiest way to cuztomize your plot is to use pre-loaded styles. To see what style are available, you can print out  the attribute *plt.style.available* like this `print(plt.style.available)`. Then to choose a style, you use `plt.style.use('name-of-the-style')`.\n",
    "- For \"not-so-serious\" graph, you can use `plt.xkcd()` instead of choosing your style to make a \"hand-drawn-like-kind-of\" graph.\n",
    "- `label` is used to set the line's label for a legend.\n",
    "- `color` is used to set the line's color (*k* for *black*, *b* for *blue*). You can also use hex value to choose color for example `color='#5a7d9a'`. The first 2 characters *5a* are for the red value. The next two characters *7d* are for the green value. And the last two characters *9a* are for the blue value.\n",
    "- `linewidth` is used to set the line's thickness. (Default value is 1).\n",
    "- `linestyle` is used to set the type of line (*--* for *dotted line*).\n",
    "- `marker` is used to mark the data point with diffrent styles (*\\\"o\\\"* for *big dots*, *\\\".\\\"* for *small dots*).\n",
    "- `plt.grid(True)` enables grid on the plot."
   ]
  },
  {
   "cell_type": "code",
   "execution_count": 3,
   "metadata": {},
   "outputs": [
    {
     "name": "stdout",
     "output_type": "stream",
     "text": [
      "['seaborn-dark', 'seaborn-darkgrid', 'seaborn-ticks', 'fivethirtyeight', 'seaborn-whitegrid', 'classic', '_classic_test', 'fast', 'seaborn-talk', 'seaborn-dark-palette', 'seaborn-bright', 'seaborn-pastel', 'grayscale', 'seaborn-notebook', 'ggplot', 'seaborn-colorblind', 'seaborn-muted', 'seaborn', 'Solarize_Light2', 'seaborn-paper', 'bmh', 'tableau-colorblind10', 'seaborn-white', 'dark_background', 'seaborn-poster', 'seaborn-deep']\n"
     ]
    },
    {
     "data": {
      "image/png": "[encoded data removed]",
      "text/plain": [
       "<Figure size 432x288 with 1 Axes>"
      ]
     },
     "metadata": {
      "needs_background": "light"
     },
     "output_type": "display_data"
    }
   ],
   "source": [
    "plt.xlabel('Age')\n",
    "plt.ylabel('Median Salary (USD)')\n",
    "plt.title('Median Salary (USD) by Age')\n",
    "\n",
    "py_dev_x = [25, 26, 27, 28, 29, 30, 31, 32, 33, 34, 35]\n",
    "py_dev_y = [45372, 48876, 53850, 57287, 63016,\n",
    "            65998, 70003, 70000, 71496, 75370, 83640]\n",
    "\n",
    "plt.style.use('tableau-colorblind10')\n",
    "plt.plot(dev_x, dev_y, color='k', linestyle='--', marker='.', label='All Developers')\n",
    "\n",
    "plt.legend()\n",
    "plt.grid(True)\n",
    "print(plt.style.available)\n",
    "plt.show()\n"
   ]
  },
  {
   "cell_type": "markdown",
   "metadata": {},
   "source": [
    "To save the plot, use `plt.savefig('name-of-your-plot.png')`. This line of code will save \n",
    "the plot to the folder where your notebook is located at. You can also pass in either an absolute path or a relative path to where you want to save your plot instead of saving it to the current folder."
   ]
  },
  {
   "cell_type": "code",
   "execution_count": 38,
   "metadata": {},
   "outputs": [
    {
     "data": {
      "image/png": "[encoded data removed]",
      "text/plain": [
       "<Figure size 576x396 with 1 Axes>"
      ]
     },
     "metadata": {},
     "output_type": "display_data"
    }
   ],
   "source": [
    "import numpy as np\n",
    "x_indexes = np.arange(len(dev_x))\n",
    "plt.style.use('seaborn')\n",
    "plt.bar(x_indexes-0.125, dev_y, width=0.25 )\n",
    "plt.bar(x_indexes+0.125, py_dev_y, width=0.25 )\n",
    "plt.xticks(ticks=x_indexes, labels=dev_x)\n",
    "plt.show()"
   ]
  },
  {
   "cell_type": "markdown",
   "metadata": {},
   "source": [
    "# `numpy` tutorial\n",
    "A numpy array is similar to a normal python list. However, a numpy array requires less memory, faster and more convenient. The reason for that is that in python, everything is an object. A regular list in python is constructed of a list of pointers that points to the actual object whereas a numpy array simply stores the value of whatever item type (4 bytes for int32 and 8 bytes for float64)\n"
   ]
  },
  {
   "cell_type": "code",
   "execution_count": 5,
   "metadata": {},
   "outputs": [
    {
     "name": "stdout",
     "output_type": "stream",
     "text": [
      "1000\n",
      "8\n"
     ]
    }
   ],
   "source": [
    "import numpy as np\n",
    "array = np.arange(1000) #create a numpy array of size 1000 and the elements are 0 to 999\n",
    "print(array.size) # \"size\" is an attribut e of a numpy array that stores the size of an array\n",
    "print(array.itemsize) # \"itemsize\" stores the size of an item in the numpy array"
   ]
  },
  {
   "cell_type": "markdown",
   "metadata": {},
   "source": [
    "You can also create a numpy array by explicitly listing all the elements in the array"
   ]
  },
  {
   "cell_type": "code",
   "execution_count": 6,
   "metadata": {},
   "outputs": [],
   "source": [
    "array1 = np.array ([1, 2, 3])"
   ]
  },
  {
   "cell_type": "markdown",
   "metadata": {},
   "source": [
    "You can also create a 2 dimension numpy array"
   ]
  },
  {
   "cell_type": "code",
   "execution_count": 7,
   "metadata": {},
   "outputs": [
    {
     "name": "stdout",
     "output_type": "stream",
     "text": [
      "2\n",
      "(3, 2)\n",
      "[[1 2]\n",
      " [3 4]\n",
      " [5 6]]\n",
      "[[1 2 3]\n",
      " [4 5 6]]\n",
      "[1 2 3 4 5 6]\n"
     ]
    }
   ],
   "source": [
    "array2D = np.array([[1,2], [3,4], [5,6]])\n",
    "print(array2D.ndim) # \"ndim\" is a numpy array's attribute that stores the array's dimension\n",
    "print(array2D.shape) # \"shape\" is the shape of an array (number-of-row, number-of-column)\n",
    "# To reshape an existing array with r number of row and c number of column, use name-of-array.reshape(r,c)\n",
    "print(array2D)\n",
    "print(array2D.reshape(2, 3)) # \"reshape\" only changes the shape of the array in that instance\n",
    "print(array2D.ravel()) # \"ravel\" collapse 2D array to a one dimension array"
   ]
  },
  {
   "cell_type": "code",
   "execution_count": 8,
   "metadata": {},
   "outputs": [
    {
     "name": "stdout",
     "output_type": "stream",
     "text": [
      "int64\n",
      "float64\n"
     ]
    }
   ],
   "source": [
    "print(array1.dtype) # \"dtype\" stores the type of an item in the array\n",
    "# To set a type for the item in the array, add an argument dtype=np.float for float\n",
    "array2 = np.array([24, 25, 26, 27, 28, 29], dtype=np.float)\n",
    "print(array2.dtype)"
   ]
  },
  {
   "cell_type": "markdown",
   "metadata": {},
   "source": [
    "To create an array of numbers from *a* to *b* with *n* step, use `np.arange(a, b, n)`."
   ]
  },
  {
   "cell_type": "code",
   "execution_count": 9,
   "metadata": {},
   "outputs": [
    {
     "name": "stdout",
     "output_type": "stream",
     "text": [
      "[ 1  4  7 10 13 16 19]\n"
     ]
    }
   ],
   "source": [
    "array3 = np.arange(1, 20, 3)\n",
    "print(array3)"
   ]
  },
  {
   "cell_type": "markdown",
   "metadata": {},
   "source": [
    "To create an array of *n* numbers from *a* to *b*, use `np.linspace(a, b, n)` which will create an array of n numbers that are linearly and equally spaced."
   ]
  },
  {
   "cell_type": "code",
   "execution_count": 12,
   "metadata": {},
   "outputs": [
    {
     "name": "stdout",
     "output_type": "stream",
     "text": [
      "[1.         1.44444444 1.88888889 2.33333333 2.77777778 3.22222222\n",
      " 3.66666667 4.11111111 4.55555556 5.        ]\n"
     ]
    }
   ],
   "source": [
    "array4 = np.linspace(1,5,10)\n",
    "print(array4)"
   ]
  },
  {
   "cell_type": "markdown",
   "metadata": {},
   "source": [
    "**A few simple methods**\n",
    "- min() returns the smallest number in the array\n",
    "- max() returns the biggest number in the array\n",
    "- np.sqrt(name-of-array) takes a square root of all the elements in the array\n",
    "- np.std(name-of-array) computes the standard deviation of all the elements in the array\n",
    "- sum() sums all the numbers in the array\n",
    "    - sum(axis=0) sums the numbers vertically, that is, all the numbers in the same column\n",
    "    - sum(axis=1) sums the numbers horizontally, that is, all the numbers in the same row\n"
   ]
  },
  {
   "cell_type": "code",
   "execution_count": 29,
   "metadata": {},
   "outputs": [
    {
     "name": "stdout",
     "output_type": "stream",
     "text": [
      "[[ 4 12]\n",
      " [13 10]\n",
      " [ 3 11]\n",
      " [21  7]\n",
      " [23  2]\n",
      " [26 12]]\n",
      "The smallest number is 2\n",
      "The biggest number is 26\n",
      "Sum of all the numbers in the array is 144\n",
      "Sum of all the numbers in the same row is [16 23 14 28 25 38]\n",
      "Sum of all the numbers in the same column is [90 54]\n"
     ]
    }
   ],
   "source": [
    "array5 = np.array([[4, 12], [13, 10], [3, 11], [21, 7], [23, 2], [26, 12]])\n",
    "print(array5)\n",
    "print('The smallest number is ' + str(array5.min()))\n",
    "print('The biggest number is', array5.max())\n",
    "print('Sum of all the numbers in the array is ' + str(array5.sum()))\n",
    "print('Sum of all the numbers in the same row is ' + str(array5.sum(axis=1)))\n",
    "print('Sum of all the numbers in the same column is ' + str(array5.sum(axis=0)))"
   ]
  },
  {
   "cell_type": "markdown",
   "metadata": {},
   "source": [
    "**Array operators**\n",
    "You can use the same mathematical operators addition, subtraction, division and multiplication to numpy arrays"
   ]
  },
  {
   "cell_type": "code",
   "execution_count": 36,
   "metadata": {},
   "outputs": [
    {
     "name": "stdout",
     "output_type": "stream",
     "text": [
      "a1\n",
      "[[3 6]\n",
      " [7 2]]\n",
      "a2\n",
      "[[6 7]\n",
      " [1 4]]\n",
      "addition\n",
      "[[ 9 13]\n",
      " [ 8  6]]\n",
      "multiplication\n",
      "[[18 42]\n",
      " [ 7  8]]\n"
     ]
    }
   ],
   "source": [
    "a1 = np.array([[3, 6], [7, 2]])\n",
    "a2 = np.array([[6, 7], [1, 4]])\n",
    "print('a1')\n",
    "print(a1)\n",
    "print('a2')\n",
    "print(a2)\n",
    "print('addition')\n",
    "print(a1 + a2)\n",
    "print('multiplication')\n",
    "print(a1 * a2)"
   ]
  }
 ],
 "metadata": {
  "kernelspec": {
   "display_name": "Python 3",
   "language": "python",
   "name": "python3"
  },
  "language_info": {
   "codemirror_mode": {
    "name": "ipython",
    "version": 3
   },
   "file_extension": ".py",
   "mimetype": "text/x-python",
   "name": "python",
   "nbconvert_exporter": "python",
   "pygments_lexer": "ipython3",
   "version": "3.7.4"
  }
 },
 "nbformat": 4,
 "nbformat_minor": 2
}
